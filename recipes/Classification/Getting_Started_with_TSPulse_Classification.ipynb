{
 "cells": [
  {
   "cell_type": "markdown",
   "id": "19d56d72",
   "metadata": {},
   "source": [
    "# BasicMotions Classification with Granite Time Series TSPulse\n",
    "\n",
    "TSPulse are compact pre-trained models specialized for various multivariate time-series analysis tasks namely classification, anomaly-detection, imputation and similarity search, open-sourced by IBM Research. With 1 Million parameters, TSPulse introduces the notion of the first-ever \"tiny\" pre-trained models for Time-Series tasks like classification, anomaly-detection, imputation and similarity search. TSPulse outperforms several popular benchmarks demanding billions of parameters in zero-shot and few-shot setting and can easily be fine-tuned for different downstream tasks.\n",
    "\n",
    "In this recipe, we demonstrates the usage of a pre-trained TSPulse model for time-series classification task. This example makes use of the [BasicMotions](https://www.timeseriesclassification.com/description.php?Dataset=BasicMotions) dataset from the [UEA](https://arxiv.org/abs/1811.00075) multivariate time-series classification archive.\n",
    "\n",
    "The data was generated as part of a student project where four students performed four activities whilst wearing a smart watch. The watch collects 3D accelerometer and a 3D gyroscope. The data order is accelerometer x, y, z then gyroscope x, y, z. There are four different classes: walking, resting, running and badminton.\n"
   ]
  },
  {
   "cell_type": "markdown",
   "id": "84aeaba4",
   "metadata": {},
   "source": [
    "## Install the TSFM Library\n",
    "\n",
    "The [granite-tsfm library](https://github.com/ibm-granite/granite-tsfm) provides utilities for working with Time Series Foundation Models (TSFM). Here the pinned version is retrieved and installed.\n"
   ]
  },
  {
   "cell_type": "code",
   "execution_count": null,
   "id": "3b597c3e",
   "metadata": {},
   "outputs": [],
   "source": [
    "# Install the tsfm library\n",
    "! pip install \"granite-tsfm[notebooks]==0.2.28\""
   ]
  },
  {
   "cell_type": "markdown",
   "id": "bf2d0025-e9dd-465f-a45a-2ecc22073328",
   "metadata": {},
   "source": [
    "## Imports"
   ]
  },
  {
   "cell_type": "code",
   "execution_count": null,
   "id": "8ccc6220-6a78-4aa1-b3ac-737223dbe987",
   "metadata": {},
   "outputs": [],
   "source": [
    "import math\n",
    "import os\n",
    "import tempfile\n",
    "import requests\n",
    "import zipfile\n",
    "import io\n",
    "import numpy as np\n",
    "import torch\n",
    "from torch.optim import AdamW\n",
    "from torch.optim.lr_scheduler import OneCycleLR\n",
    "from torch.utils.data import DataLoader, random_split\n",
    "from transformers import EarlyStoppingCallback, Trainer, TrainingArguments, set_seed\n",
    "from transformers.data.data_collator import default_data_collator\n",
    "from transformers.trainer_utils import RemoveColumnsCollator"
   ]
  },
  {
   "cell_type": "markdown",
   "id": "04d2465f",
   "metadata": {},
   "source": [
    "### Imports from `tsfm_public`"
   ]
  },
  {
   "cell_type": "code",
   "execution_count": null,
   "id": "ee950055-4527-40eb-8fe2-ce023003f2b8",
   "metadata": {},
   "outputs": [],
   "source": [
    "from tsfm_public.models.tspulse import TSPulseForClassification\n",
    "from tsfm_public.toolkit.dataset import ClassificationDFDataset\n",
    "from tsfm_public.toolkit.lr_finder import optimal_lr_finder\n",
    "from tsfm_public.toolkit.time_series_classification_preprocessor import TimeSeriesClassificationPreprocessor\n",
    "from tsfm_public.toolkit.util import convert_tsfile_to_dataframe"
   ]
  },
  {
   "cell_type": "code",
   "execution_count": null,
   "id": "e4ad00a4",
   "metadata": {},
   "outputs": [],
   "source": [
    "# set the seed\n",
    "seed = 42\n",
    "set_seed(seed)"
   ]
  },
  {
   "cell_type": "markdown",
   "id": "07aba832-beab-442f-a6e7-a70abbfdfbc1",
   "metadata": {},
   "source": [
    "## Data Preprocessing\n",
    "\n",
    "We will download the BasicMotions dataset and extract the train and test `.ts files`."
   ]
  },
  {
   "cell_type": "code",
   "execution_count": null,
   "id": "a90de55d",
   "metadata": {},
   "outputs": [],
   "source": [
    "url = \"https://www.timeseriesclassification.com/aeon-toolkit/BasicMotions.zip\"\n",
    "\n",
    "extract_dir = \"BasicMotions\"\n",
    "os.makedirs(extract_dir, exist_ok=True)\n",
    "\n",
    "print(\"Downloading ZIP file...\")\n",
    "response = requests.get(url)\n",
    "response.raise_for_status()\n",
    "\n",
    "with zipfile.ZipFile(io.BytesIO(response.content)) as zip_ref:\n",
    "    ts_files = [f for f in zip_ref.namelist() if f.endswith(\".ts\")]\n",
    "\n",
    "    print(f\"Extracting {len(ts_files)} .ts files...\")\n",
    "    for file in ts_files:\n",
    "        zip_ref.extract(file, extract_dir)\n",
    "\n",
    "print(f\"Extraction completed. Files are saved in '{extract_dir}'\")"
   ]
  },
  {
   "cell_type": "markdown",
   "id": "e332563b",
   "metadata": {},
   "source": [
    "## Read in the data and train the preprocessor"
   ]
  },
  {
   "cell_type": "code",
   "execution_count": null,
   "id": "938db5cc-a761-4eb7-9042-e42aa8075a5d",
   "metadata": {},
   "outputs": [],
   "source": [
    "dataset_name = \"BasicMotions\""
   ]
  },
  {
   "cell_type": "code",
   "execution_count": null,
   "id": "503186b9-99aa-4335-a966-e3dc9a24414f",
   "metadata": {},
   "outputs": [],
   "source": [
    "path = f\"{dataset_name}/{dataset_name}_TRAIN.ts\"\n",
    "\n",
    "df_base = convert_tsfile_to_dataframe(\n",
    "    path,\n",
    "    return_separate_X_and_y=False,\n",
    ")\n",
    "label_column = \"class_vals\"\n",
    "input_columns = [f\"dim_{i}\" for i in range(df_base.shape[1] - 1)]\n",
    "\n",
    "tsp = TimeSeriesClassificationPreprocessor(\n",
    "    input_columns=input_columns,\n",
    "    label_column=label_column,\n",
    "    scaling=True,\n",
    ")\n",
    "\n",
    "tsp.train(df_base)\n",
    "df_prep = tsp.preprocess(df_base)\n",
    "base_dataset = ClassificationDFDataset(\n",
    "    df_prep,\n",
    "    id_columns=[],\n",
    "    timestamp_column=None,\n",
    "    input_columns=input_columns,\n",
    "    label_column=label_column,\n",
    "    context_length=512,\n",
    "    static_categorical_columns=[],\n",
    "    stride=1,\n",
    "    enable_padding=False,\n",
    "    full_series=True,\n",
    ")\n",
    "\n",
    "path = f\"{dataset_name}/{dataset_name}_TRAIN.ts\"\n",
    "\n",
    "df_test = convert_tsfile_to_dataframe(\n",
    "    path,\n",
    "    return_separate_X_and_y=False,\n",
    ")\n",
    "label_column = \"class_vals\"\n",
    "input_columns = [f\"dim_{i}\" for i in range(df_test.shape[1] - 1)]\n",
    "\n",
    "tsp = TimeSeriesClassificationPreprocessor(\n",
    "    input_columns=input_columns,\n",
    "    label_column=label_column,\n",
    "    scaling=True,\n",
    ")\n",
    "\n",
    "tsp.train(df_test)\n",
    "df_prep = tsp.preprocess(df_test)\n",
    "\n",
    "test_dataset = ClassificationDFDataset(\n",
    "    df_prep,\n",
    "    id_columns=[],\n",
    "    timestamp_column=None,\n",
    "    input_columns=input_columns,\n",
    "    label_column=label_column,\n",
    "    context_length=512,\n",
    "    static_categorical_columns=[],\n",
    "    stride=1,\n",
    "    enable_padding=False,\n",
    "    full_series=True,\n",
    ")"
   ]
  },
  {
   "cell_type": "markdown",
   "id": "cb3e6eea",
   "metadata": {},
   "source": [
    "## Creating a validation set "
   ]
  },
  {
   "cell_type": "code",
   "execution_count": null,
   "id": "ea6d0d55",
   "metadata": {},
   "outputs": [],
   "source": [
    "dataset_size = len(base_dataset)\n",
    "print(dataset_size)\n",
    "split_valid_ratio = 0.1\n",
    "val_size = int(split_valid_ratio * dataset_size)  # 10% valid split\n",
    "train_size = dataset_size - val_size\n",
    "train_dataset, valid_dataset = random_split(base_dataset, [train_size, val_size])"
   ]
  },
  {
   "cell_type": "markdown",
   "id": "b0976700-08fc-42c6-8dab-c1134c0fcc21",
   "metadata": {},
   "source": [
    "## Configs for the TSPulse model"
   ]
  },
  {
   "cell_type": "markdown",
   "id": "50be9ebe",
   "metadata": {},
   "source": [
    "### Hyperparameters to Optimize and suggested values :\n",
    "head_reduce_d_model = 1, 2\n",
    "\n",
    "decoder_mode = mix_channel, common_channel\n",
    "\n",
    "head_gated_attention_activation = softmax, sigmoid\n",
    "\n",
    "mask_ratio = 0, 0.3\n",
    "\n",
    "channel_virtual_expand_scale = 1, 2"
   ]
  },
  {
   "cell_type": "code",
   "execution_count": null,
   "id": "07694897-1fa7-46d5-8b01-71af52a5a64d",
   "metadata": {},
   "outputs": [],
   "source": [
    "config_dict = {\n",
    "    \"head_gated_attention_activation\": \"softmax\",\n",
    "    \"channel_virtual_expand_scale\": 2,\n",
    "    \"mask_ratio\": 0.3,\n",
    "    \"head_reduce_d_model\": 1,\n",
    "    \"disable_mask_in_classification_eval\": True,\n",
    "    \"fft_time_consistent_masking\": True,\n",
    "    \"decoder_mode\": \"mix_channel\",\n",
    "    \"head_aggregation_dim\": \"patch\",\n",
    "    \"head_aggregation\": None,\n",
    "    \"loss\": \"cross_entropy\",\n",
    "    \"ignore_mismatched_sizes\": True,\n",
    "}\n",
    "\n",
    "config_dict[\"num_input_channels\"] = tsp.num_input_channels\n",
    "config_dict[\"num_targets\"] = df_base[\"class_vals\"].nunique()"
   ]
  },
  {
   "cell_type": "markdown",
   "id": "0f48a3aa-10bb-476d-a0bf-c20b47f286d7",
   "metadata": {},
   "source": [
    "## Getting the Pretrained TSPulse Model from HuggingFace with above configs"
   ]
  },
  {
   "cell_type": "code",
   "execution_count": null,
   "id": "e2f7a221-91b7-4bfb-b397-ffc441746786",
   "metadata": {},
   "outputs": [],
   "source": [
    "model = TSPulseForClassification.from_pretrained(\n",
    "    \"ibm-granite/granite-timeseries-tspulse-r1\", revision=\"tspulse-block-dualhead-512-p16-r1\", **config_dict\n",
    ")"
   ]
  },
  {
   "cell_type": "code",
   "execution_count": null,
   "id": "17dcd1b1-6e88-4359-9214-882e6e7ffea7",
   "metadata": {},
   "outputs": [],
   "source": [
    "device = \"cuda\" if torch.cuda.is_available() else \"mps\" if torch.mps.is_available() else \"cpu\"\n",
    "print(device)\n",
    "model = model.to(device).float()"
   ]
  },
  {
   "cell_type": "markdown",
   "id": "51181a10",
   "metadata": {},
   "source": [
    "## Backbone of the pre-trained model is freezed and the classifier head along with the input patch embedding layer is finetuned on the classification dataset."
   ]
  },
  {
   "cell_type": "code",
   "execution_count": null,
   "id": "15e12599-c519-49b4-9e5b-d32dfec912e2",
   "metadata": {},
   "outputs": [],
   "source": [
    "# Freezing Backbone except patch embedding layer....\n",
    "\n",
    "for param in model.backbone.parameters():\n",
    "    param.requires_grad = False\n",
    "\n",
    "for param in model.backbone.time_encoding.parameters():\n",
    "    param.requires_grad = True\n",
    "for param in model.backbone.fft_encoding.parameters():\n",
    "    param.requires_grad = True"
   ]
  },
  {
   "cell_type": "markdown",
   "id": "03211294-ff0d-4358-aa43-dd024387f2e1",
   "metadata": {},
   "source": [
    "## Finetuning the classifier head and patch embedding layer"
   ]
  },
  {
   "cell_type": "code",
   "execution_count": null,
   "id": "873aecaf-b329-4bc8-a72b-40989bd9a6d2",
   "metadata": {},
   "outputs": [],
   "source": [
    "OUT_DIR = \"tspulse_finetuned_models/\""
   ]
  },
  {
   "cell_type": "code",
   "execution_count": null,
   "id": "98b4ab6a-ee7b-4602-b207-b0cb9dc3ae54",
   "metadata": {},
   "outputs": [],
   "source": [
    "temp_dir = tempfile.mkdtemp()\n",
    "\n",
    "suggested_lr = None\n",
    "\n",
    "train_dict = {\"per_device_train_batch_size\": 32, \"num_train_epochs\": 200, \"eval_accumulation_steps\": None}\n",
    "\n",
    "EPOCHS = train_dict[\"num_train_epochs\"]\n",
    "BATCH_SIZE = train_dict[\"per_device_train_batch_size\"]\n",
    "eval_accumulation_steps = train_dict[\"eval_accumulation_steps\"]\n",
    "NUM_WORKERS = 1\n",
    "NUM_GPUS = 1\n",
    "\n",
    "set_seed(42)\n",
    "if suggested_lr is None:\n",
    "    lr, model = optimal_lr_finder(\n",
    "        model,\n",
    "        train_dataset,\n",
    "        batch_size=BATCH_SIZE,\n",
    "    )\n",
    "    suggested_lr = lr\n",
    "print(\"Suggested LR : \", suggested_lr)\n",
    "finetune_args = TrainingArguments(\n",
    "    output_dir=temp_dir,\n",
    "    overwrite_output_dir=True,\n",
    "    learning_rate=suggested_lr,\n",
    "    num_train_epochs=EPOCHS,\n",
    "    do_eval=True,\n",
    "    eval_strategy=\"epoch\",\n",
    "    per_device_train_batch_size=BATCH_SIZE,\n",
    "    per_device_eval_batch_size=BATCH_SIZE,\n",
    "    eval_accumulation_steps=eval_accumulation_steps,\n",
    "    dataloader_num_workers=NUM_WORKERS,\n",
    "    report_to=\"tensorboard\",\n",
    "    save_strategy=\"epoch\",\n",
    "    logging_strategy=\"epoch\",\n",
    "    save_total_limit=1,\n",
    "    logging_dir=os.path.join(OUT_DIR, \"output\"),  # Make sure to specify a logging directory\n",
    "    load_best_model_at_end=True,  # Load the best model when training ends\n",
    "    metric_for_best_model=\"eval_loss\",  # Metric to monitor for early stopping\n",
    "    greater_is_better=False,  # For loss\n",
    ")\n",
    "\n",
    "# Create the early stopping callback\n",
    "early_stopping_callback = EarlyStoppingCallback(\n",
    "    early_stopping_patience=100,  # Number of epochs with no improvement after which to stop\n",
    "    early_stopping_threshold=0.0001,  # Minimum improvement required to consider as improvement\n",
    ")\n",
    "\n",
    "# Optimizer and scheduler\n",
    "optimizer = AdamW(model.parameters(), lr=suggested_lr)\n",
    "scheduler = OneCycleLR(\n",
    "    optimizer,\n",
    "    suggested_lr,\n",
    "    epochs=EPOCHS,\n",
    "    steps_per_epoch=math.ceil(len(train_dataset) / (BATCH_SIZE * NUM_GPUS)),\n",
    ")\n",
    "\n",
    "finetune_trainer = Trainer(\n",
    "    model=model,\n",
    "    args=finetune_args,\n",
    "    train_dataset=train_dataset,\n",
    "    eval_dataset=valid_dataset,\n",
    "    callbacks=[early_stopping_callback],\n",
    "    optimizers=(optimizer, scheduler),\n",
    ")\n",
    "\n",
    "# Fine tune\n",
    "finetune_trainer.train()"
   ]
  },
  {
   "cell_type": "markdown",
   "id": "f91d63f9-1bcf-457b-a582-7453f9ab2716",
   "metadata": {},
   "source": [
    "## Evaluating the model"
   ]
  },
  {
   "cell_type": "code",
   "execution_count": null,
   "id": "98dce5c3-33ad-4859-99d2-0ef7e54e76aa",
   "metadata": {},
   "outputs": [],
   "source": [
    "predictions_dict = finetune_trainer.predict(test_dataset)\n",
    "preds_np = predictions_dict.predictions[0]\n",
    "\n",
    "remove_columns_collator = RemoveColumnsCollator(\n",
    "    data_collator=default_data_collator,\n",
    "    signature_columns=[\"target_values\"],\n",
    "    logger=None,\n",
    "    description=None,\n",
    "    model_name=\"temp\",\n",
    ")\n",
    "\n",
    "test_dataloader = DataLoader(test_dataset, batch_size=32, shuffle=False, collate_fn=remove_columns_collator)\n",
    "target_list = []\n",
    "for batch in test_dataloader:\n",
    "    batch_labels = batch[\"target_values\"].numpy()\n",
    "    target_list.append(batch_labels)\n",
    "targets_np = np.concatenate(target_list, axis=0)\n",
    "test_accuracy = np.mean(targets_np == np.argmax(preds_np, axis=1))\n",
    "print(\"test_accuracy : \", test_accuracy)"
   ]
  },
  {
   "cell_type": "code",
   "execution_count": null,
   "id": "7c90662d",
   "metadata": {},
   "outputs": [],
   "source": []
  }
 ],
 "metadata": {
  "kernelspec": {
   "display_name": "granite_cb_latest",
   "language": "python",
   "name": "python3"
  },
  "language_info": {
   "codemirror_mode": {
    "name": "ipython",
    "version": 3
   },
   "file_extension": ".py",
   "mimetype": "text/x-python",
   "name": "python",
   "nbconvert_exporter": "python",
   "pygments_lexer": "ipython3",
   "version": "3.12.11"
  }
 },
 "nbformat": 4,
 "nbformat_minor": 5
}
